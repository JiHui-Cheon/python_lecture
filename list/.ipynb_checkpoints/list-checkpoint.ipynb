{
 "cells": [
  {
   "cell_type": "code",
   "execution_count": 3,
   "id": "677a4515",
   "metadata": {},
   "outputs": [
    {
     "data": {
      "text/plain": [
       "[11, 22, 33, 44, 55, 66]"
      ]
     },
     "execution_count": 3,
     "metadata": {},
     "output_type": "execute_result"
    }
   ],
   "source": [
    "n_list = [11, 22, 33, 44, 55, 66]\n",
    "n_list "
   ]
  },
  {
   "cell_type": "code",
   "execution_count": 2,
   "id": "d896d24b",
   "metadata": {},
   "outputs": [
    {
     "name": "stdout",
     "output_type": "stream",
     "text": [
      "[11, 22, 33, 44, 55, 66]\n"
     ]
    }
   ],
   "source": [
    "n_list = [11, 22, 33, 44, 55, 66]\n",
    "print(n_list)"
   ]
  },
  {
   "cell_type": "code",
   "execution_count": 1,
   "id": "262f56ff",
   "metadata": {},
   "outputs": [],
   "source": [
    "#### 리스트의 인덱싱과 슬라이싱"
   ]
  },
  {
   "cell_type": "code",
   "execution_count": null,
   "id": "fd71236e",
   "metadata": {},
   "outputs": [],
   "source": []
  },
  {
   "cell_type": "markdown",
   "id": "6de424cf",
   "metadata": {},
   "source": [
    "## 리스트의 인덱싱과 슬라이싱"
   ]
  },
  {
   "cell_type": "code",
   "execution_count": 5,
   "id": "8a766947",
   "metadata": {},
   "outputs": [
    {
     "name": "stdout",
     "output_type": "stream",
     "text": [
      "4\n",
      "1\n"
     ]
    }
   ],
   "source": [
    "a = [1, 2, 3]\n",
    "print(a[0]+a[2])\n",
    "print(a[0])"
   ]
  },
  {
   "cell_type": "code",
   "execution_count": null,
   "id": "dfb3418b",
   "metadata": {},
   "outputs": [],
   "source": []
  },
  {
   "cell_type": "code",
   "execution_count": 6,
   "id": "e5ca8b20",
   "metadata": {},
   "outputs": [
    {
     "data": {
      "text/html": [
       "<style>.container { width:100% !important; }</style>"
      ],
      "text/plain": [
       "<IPython.core.display.HTML object>"
      ]
     },
     "metadata": {},
     "output_type": "display_data"
    }
   ],
   "source": [
    "from IPython.core.display import display, HTML\n",
    "display(HTML(\"<style>.container { width:100% !important; }</style>\"))"
   ]
  },
  {
   "cell_type": "markdown",
   "id": "c674ce66",
   "metadata": {},
   "source": [
    "###### 리스트안에 리스트도 올 수 있다."
   ]
  },
  {
   "cell_type": "code",
   "execution_count": 8,
   "id": "b3140f0b",
   "metadata": {},
   "outputs": [
    {
     "data": {
      "text/plain": [
       "'c'"
      ]
     },
     "execution_count": 8,
     "metadata": {},
     "output_type": "execute_result"
    }
   ],
   "source": [
    "a = [1, 2, 3, ['a', 'b', 'c']]\n",
    "b = a[3]\n",
    "b[2]"
   ]
  },
  {
   "cell_type": "markdown",
   "id": "6b3fba9f",
   "metadata": {},
   "source": [
    "###### 삼중 인덱싱하기"
   ]
  },
  {
   "cell_type": "code",
   "execution_count": 9,
   "id": "007b0802",
   "metadata": {},
   "outputs": [
    {
     "data": {
      "text/plain": [
       "'Life'"
      ]
     },
     "execution_count": 9,
     "metadata": {},
     "output_type": "execute_result"
    }
   ],
   "source": [
    "a = [1, 2, ['a', 'b', ['Life', 'is']]]\n",
    "\n",
    "#Life를 찾는다.\n",
    "a[2][2][0]"
   ]
  },
  {
   "cell_type": "markdown",
   "id": "a745d518",
   "metadata": {},
   "source": [
    "###### 음수인덱싱"
   ]
  },
  {
   "cell_type": "code",
   "execution_count": 11,
   "id": "1f0b9673",
   "metadata": {},
   "outputs": [
    {
     "data": {
      "text/plain": [
       "'a'"
      ]
     },
     "execution_count": 11,
     "metadata": {},
     "output_type": "execute_result"
    }
   ],
   "source": [
    "# 'a'를 음수 인덱싱을 이용해서 찾는다.\n",
    "a = [1,2,3,['a', 'b','c']]\n",
    "a[-1][-3]"
   ]
  },
  {
   "cell_type": "markdown",
   "id": "aa0d2d60",
   "metadata": {},
   "source": [
    "###### 리스트의 슬라이싱"
   ]
  },
  {
   "cell_type": "code",
   "execution_count": 16,
   "id": "80915c47",
   "metadata": {},
   "outputs": [
    {
     "data": {
      "text/plain": [
       "[3, 4, 5]"
      ]
     },
     "execution_count": 16,
     "metadata": {},
     "output_type": "execute_result"
    }
   ],
   "source": [
    "a = [1, 2, 3, 4, 5]\n",
    "a[:2] # 처음부터 2번째까지\n",
    "a[2:] # 3번째부터 끝까지"
   ]
  },
  {
   "cell_type": "markdown",
   "id": "e2937578",
   "metadata": {},
   "source": [
    "###### 리스트의 음수슬라이싱"
   ]
  },
  {
   "cell_type": "code",
   "execution_count": 19,
   "id": "223a253f",
   "metadata": {},
   "outputs": [
    {
     "name": "stdout",
     "output_type": "stream",
     "text": [
      "[3, 4]\n",
      "[1]\n"
     ]
    }
   ],
   "source": [
    "a = [1, 2, 3, 4, 5]\n",
    "print(a[-3:-1])\n",
    "print(a[:-4])"
   ]
  },
  {
   "cell_type": "markdown",
   "id": "c0951922",
   "metadata": {},
   "source": [
    "###### 리스트 더하기"
   ]
  },
  {
   "cell_type": "code",
   "execution_count": 20,
   "id": "8cb6901b",
   "metadata": {},
   "outputs": [
    {
     "data": {
      "text/plain": [
       "[1, 2, 3, 4, 5, 6]"
      ]
     },
     "execution_count": 20,
     "metadata": {},
     "output_type": "execute_result"
    }
   ],
   "source": [
    "a = [1, 2, 3]\n",
    "b = [4, 5, 6]\n",
    "a + b"
   ]
  },
  {
   "cell_type": "markdown",
   "id": "1af05b6e",
   "metadata": {},
   "source": [
    "###### 리스트 반복하기"
   ]
  },
  {
   "cell_type": "code",
   "execution_count": 23,
   "id": "b37e7640",
   "metadata": {},
   "outputs": [
    {
     "data": {
      "text/plain": [
       "[1, 2, 3, 1, 2, 3, 1, 2, 3]"
      ]
     },
     "execution_count": 23,
     "metadata": {},
     "output_type": "execute_result"
    }
   ],
   "source": [
    "a = [1, 2, 3]\n",
    "b = [4, 5, 6]\n",
    "a * 3"
   ]
  },
  {
   "cell_type": "markdown",
   "id": "307f6442",
   "metadata": {},
   "source": [
    "###### 리스트 길이구하기"
   ]
  },
  {
   "cell_type": "code",
   "execution_count": 25,
   "id": "57c98ef3",
   "metadata": {},
   "outputs": [
    {
     "data": {
      "text/plain": [
       "3"
      ]
     },
     "execution_count": 25,
     "metadata": {},
     "output_type": "execute_result"
    }
   ],
   "source": [
    "a = [1, 2, 3]\n",
    "len(a)"
   ]
  },
  {
   "cell_type": "markdown",
   "id": "8425dccd",
   "metadata": {},
   "source": [
    "## 리스트의 수정과 삭제"
   ]
  },
  {
   "cell_type": "markdown",
   "id": "3b7dcfb4",
   "metadata": {},
   "source": [
    "##### del 키워드 사용해 리스트 요소 삭제하기"
   ]
  },
  {
   "cell_type": "code",
   "execution_count": 26,
   "id": "8ace190d",
   "metadata": {},
   "outputs": [],
   "source": [
    "a = [1, 2, 3]\n",
    "del a[1]"
   ]
  },
  {
   "cell_type": "code",
   "execution_count": 27,
   "id": "34242c98",
   "metadata": {},
   "outputs": [
    {
     "data": {
      "text/plain": [
       "[1, 3]"
      ]
     },
     "execution_count": 27,
     "metadata": {},
     "output_type": "execute_result"
    }
   ],
   "source": [
    "a"
   ]
  },
  {
   "cell_type": "code",
   "execution_count": 39,
   "id": "51ad52c5",
   "metadata": {},
   "outputs": [],
   "source": [
    "a = [1, 2, 3, 4, 5]\n",
    "del a[:2]"
   ]
  },
  {
   "cell_type": "code",
   "execution_count": 40,
   "id": "a1ca1943",
   "metadata": {},
   "outputs": [
    {
     "data": {
      "text/plain": [
       "[3, 4, 5]"
      ]
     },
     "execution_count": 40,
     "metadata": {},
     "output_type": "execute_result"
    }
   ],
   "source": [
    "a"
   ]
  },
  {
   "cell_type": "markdown",
   "id": "8ee0d9b4",
   "metadata": {},
   "source": [
    "###### 리스트 요소 제거(remove)"
   ]
  },
  {
   "cell_type": "code",
   "execution_count": 33,
   "id": "c8a19c5f",
   "metadata": {},
   "outputs": [],
   "source": [
    "a = ['a', 'b', 'c']\n",
    "a.remove('a') # a.remove(a[0])도 가능\n",
    "b = [1, 2, 3] # 1은 첫번째가 아니라 1이라는 숫자, 요소를 의미\n",
    "b.remove(1)\n"
   ]
  },
  {
   "cell_type": "code",
   "execution_count": 35,
   "id": "974b7d70",
   "metadata": {},
   "outputs": [
    {
     "name": "stdout",
     "output_type": "stream",
     "text": [
      "['b', 'c']\n",
      "[2, 3]\n"
     ]
    }
   ],
   "source": [
    "print(a)\n",
    "print(b)"
   ]
  },
  {
   "cell_type": "code",
   "execution_count": 46,
   "id": "5938e5a6",
   "metadata": {},
   "outputs": [],
   "source": [
    "a = ['a','b', [1, 2, 3, 4, 5], 'c']\n",
    "a[2].remove(4) #a.remove([2][3])아님!!!!\n",
    "b = a[2]\n",
    "b.remove(b[3])"
   ]
  },
  {
   "cell_type": "code",
   "execution_count": 47,
   "id": "5bde043c",
   "metadata": {},
   "outputs": [
    {
     "data": {
      "text/plain": [
       "['a', 'b', [1, 2, 3], 'c']"
      ]
     },
     "execution_count": 47,
     "metadata": {},
     "output_type": "execute_result"
    }
   ],
   "source": [
    "a"
   ]
  },
  {
   "cell_type": "markdown",
   "id": "cc01d3d3",
   "metadata": {},
   "source": [
    "###### 리스트 요소 끄집어내기(pop)"
   ]
  },
  {
   "cell_type": "code",
   "execution_count": 48,
   "id": "0714fb2a",
   "metadata": {},
   "outputs": [
    {
     "data": {
      "text/plain": [
       "3"
      ]
     },
     "execution_count": 48,
     "metadata": {},
     "output_type": "execute_result"
    }
   ],
   "source": [
    "a = [1,2,3]\n",
    "a.pop()"
   ]
  },
  {
   "cell_type": "code",
   "execution_count": 50,
   "id": "3f30f3c1",
   "metadata": {},
   "outputs": [
    {
     "data": {
      "text/plain": [
       "[1, 3]"
      ]
     },
     "execution_count": 50,
     "metadata": {},
     "output_type": "execute_result"
    }
   ],
   "source": [
    "a = [1,2,3]\n",
    "a.pop(1)\n",
    "a #2라는 요소를 끄집어낸뒤 삭제함. 요소가 아닌 인덱스쓰임."
   ]
  },
  {
   "cell_type": "markdown",
   "id": "de1bffc5",
   "metadata": {},
   "source": [
    "## 리스트 관련 함수"
   ]
  },
  {
   "cell_type": "markdown",
   "id": "a3bcffec",
   "metadata": {},
   "source": [
    "###### 리스트 요소 추가(append)"
   ]
  },
  {
   "cell_type": "code",
   "execution_count": 51,
   "id": "131ee3b4",
   "metadata": {},
   "outputs": [
    {
     "data": {
      "text/plain": [
       "[1, 2, 3, 'a']"
      ]
     },
     "execution_count": 51,
     "metadata": {},
     "output_type": "execute_result"
    }
   ],
   "source": [
    "# 맨 마지막에 요소추가\n",
    "a = [1, 2, 3]\n",
    "a.append('a')\n",
    "a"
   ]
  },
  {
   "cell_type": "markdown",
   "id": "e63a3fec",
   "metadata": {},
   "source": [
    "###### 리스트 요소 추가(insert)"
   ]
  },
  {
   "cell_type": "code",
   "execution_count": 53,
   "id": "6e90d080",
   "metadata": {},
   "outputs": [
    {
     "data": {
      "text/plain": [
       "[1, 2, 'a', 3]"
      ]
     },
     "execution_count": 53,
     "metadata": {},
     "output_type": "execute_result"
    }
   ],
   "source": [
    "# 리스트.index(입력할index, 값)\n",
    "a = [1, 2, 3]\n",
    "a.insert(2, 'a')\n",
    "a"
   ]
  },
  {
   "cell_type": "markdown",
   "id": "4b72c8ba",
   "metadata": {},
   "source": [
    "###### 리스트 요소 추가(+)"
   ]
  },
  {
   "cell_type": "code",
   "execution_count": 54,
   "id": "40829210",
   "metadata": {},
   "outputs": [
    {
     "data": {
      "text/plain": [
       "[2, 5, 7, 3, 5, 9, 11, 13]"
      ]
     },
     "execution_count": 54,
     "metadata": {},
     "output_type": "execute_result"
    }
   ],
   "source": [
    ">>> m = [2, 5, 7]\n",
    ">>> n = [3, 5, 9]\n",
    ">>> k = m + n\n",
    ">>> k\n",
    "[2, 5, 7, 3, 5, 9]\n",
    ">>> k +=[11, 13]\n",
    ">>> k\n",
    "[2, 5, 7, 3, 5, 9, 11, 13]"
   ]
  },
  {
   "cell_type": "markdown",
   "id": "5ccb86a9",
   "metadata": {},
   "source": [
    "###### 리스트 요소추가(extend)"
   ]
  },
  {
   "cell_type": "code",
   "execution_count": 57,
   "id": "c8fc4a19",
   "metadata": {},
   "outputs": [
    {
     "data": {
      "text/plain": [
       "[1, 2, 3, 4, 5, 6]"
      ]
     },
     "execution_count": 57,
     "metadata": {},
     "output_type": "execute_result"
    }
   ],
   "source": [
    "# 리스트.extend(추가할리스트)\n",
    "a = [1, 2, 3]\n",
    "a.extend([4,5,6])\n",
    "a"
   ]
  },
  {
   "cell_type": "markdown",
   "id": "80275751",
   "metadata": {},
   "source": [
    "###### 리스트에 포함된 요소 x의 개수 세기(count)"
   ]
  },
  {
   "cell_type": "code",
   "execution_count": 77,
   "id": "a37038ff",
   "metadata": {},
   "outputs": [
    {
     "data": {
      "text/plain": [
       "4"
      ]
     },
     "execution_count": 77,
     "metadata": {},
     "output_type": "execute_result"
    }
   ],
   "source": [
    "a = ['성', '김', '공', '공', '공', '공']\n",
    "a.count('공')"
   ]
  },
  {
   "cell_type": "markdown",
   "id": "4a6dfb28",
   "metadata": {},
   "source": [
    "## list 정렬하기"
   ]
  },
  {
   "cell_type": "markdown",
   "id": "3f5ed5b9",
   "metadata": {},
   "source": [
    "###### 리스트 정렬(sort)"
   ]
  },
  {
   "cell_type": "code",
   "execution_count": 59,
   "id": "110000da",
   "metadata": {},
   "outputs": [
    {
     "data": {
      "text/plain": [
       "[-2, 1, 2, 3, 4, 5, 6, 100, 200]"
      ]
     },
     "execution_count": 59,
     "metadata": {},
     "output_type": "execute_result"
    }
   ],
   "source": [
    "a = [100, 200, -2, 1, 2, 3, 4, 5, 6]\n",
    "a.sort()\n",
    "a"
   ]
  },
  {
   "cell_type": "code",
   "execution_count": 60,
   "id": "896a2a64",
   "metadata": {},
   "outputs": [
    {
     "data": {
      "text/plain": [
       "['a', 'b', 'c']"
      ]
     },
     "execution_count": 60,
     "metadata": {},
     "output_type": "execute_result"
    }
   ],
   "source": [
    "a = ['a', 'c', 'b']\n",
    "a.sort()\n",
    "a"
   ]
  },
  {
   "cell_type": "code",
   "execution_count": 74,
   "id": "49270aca",
   "metadata": {},
   "outputs": [
    {
     "data": {
      "text/plain": [
       "['a', '곰', '공', '김', '성']"
      ]
     },
     "execution_count": 74,
     "metadata": {},
     "output_type": "execute_result"
    }
   ],
   "source": [
    "a = ['성', '공', '김', '곰', 'a']\n",
    "a.sort()\n",
    "a"
   ]
  },
  {
   "cell_type": "code",
   "execution_count": 75,
   "id": "8fa172b9",
   "metadata": {},
   "outputs": [
    {
     "data": {
      "text/plain": [
       "['성', '김', '공', '곰', 'a']"
      ]
     },
     "execution_count": 75,
     "metadata": {},
     "output_type": "execute_result"
    }
   ],
   "source": [
    "# 역순정렬하기\n",
    "a = ['성', '공', '김', '곰', 'a']\n",
    "a.sort(reverse=True) # True 대신 1도 됨. False는 0\n",
    "a"
   ]
  },
  {
   "cell_type": "markdown",
   "id": "0a9cdd67",
   "metadata": {},
   "source": [
    "###### 리스트 뒤집기(reverse)"
   ]
  },
  {
   "cell_type": "code",
   "execution_count": 64,
   "id": "f98c9519",
   "metadata": {},
   "outputs": [
    {
     "data": {
      "text/plain": [
       "['b', 'c', 'a']"
      ]
     },
     "execution_count": 64,
     "metadata": {},
     "output_type": "execute_result"
    }
   ],
   "source": [
    "a = ['a', 'c', 'b']\n",
    "a.reverse()\n",
    "a"
   ]
  },
  {
   "cell_type": "code",
   "execution_count": null,
   "id": "d5939555",
   "metadata": {},
   "outputs": [],
   "source": []
  }
 ],
 "metadata": {
  "kernelspec": {
   "display_name": "Python 3",
   "language": "python",
   "name": "python3"
  },
  "language_info": {
   "codemirror_mode": {
    "name": "ipython",
    "version": 3
   },
   "file_extension": ".py",
   "mimetype": "text/x-python",
   "name": "python",
   "nbconvert_exporter": "python",
   "pygments_lexer": "ipython3",
   "version": "3.8.9"
  }
 },
 "nbformat": 4,
 "nbformat_minor": 5
}
