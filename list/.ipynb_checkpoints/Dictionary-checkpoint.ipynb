{
 "cells": [
  {
   "cell_type": "markdown",
   "id": "018ebb93",
   "metadata": {},
   "source": [
    "## 딕셔너리"
   ]
  },
  {
   "cell_type": "markdown",
   "id": "33001a56",
   "metadata": {},
   "source": [
    "###### {Key1:Value1, Ke2:value2, Key3:Value3, ...}"
   ]
  },
  {
   "cell_type": "code",
   "execution_count": 1,
   "id": "1b2925ee",
   "metadata": {},
   "outputs": [
    {
     "data": {
      "text/plain": [
       "dict"
      ]
     },
     "execution_count": 1,
     "metadata": {},
     "output_type": "execute_result"
    }
   ],
   "source": [
    "dic = dict()\n",
    "type(dic)"
   ]
  },
  {
   "cell_type": "code",
   "execution_count": 2,
   "id": "c2af785f",
   "metadata": {},
   "outputs": [
    {
     "data": {
      "text/plain": [
       "2"
      ]
     },
     "execution_count": 2,
     "metadata": {},
     "output_type": "execute_result"
    }
   ],
   "source": [
    "dic = {\"a\":\"b\", \"c\":\"d\"}\n",
    "len(dic)"
   ]
  },
  {
   "cell_type": "code",
   "execution_count": 4,
   "id": "e32fc0ec",
   "metadata": {},
   "outputs": [
    {
     "data": {
      "text/plain": [
       "3"
      ]
     },
     "execution_count": 4,
     "metadata": {},
     "output_type": "execute_result"
    }
   ],
   "source": [
    "dic = {'name':'pey', 'phone':'0119993323', 'birth': '1118'}\n",
    "len(dic)"
   ]
  },
  {
   "cell_type": "markdown",
   "id": "a5a9bfab",
   "metadata": {},
   "source": [
    "###### 딕셔너리 쌍 추가하기"
   ]
  },
  {
   "cell_type": "code",
   "execution_count": 5,
   "id": "adab54c2",
   "metadata": {},
   "outputs": [
    {
     "data": {
      "text/plain": [
       "{1: 'a', 2: 'b'}"
      ]
     },
     "execution_count": 5,
     "metadata": {},
     "output_type": "execute_result"
    }
   ],
   "source": [
    "a = {1 : 'a'}\n",
    "a[2] = 'b'\n",
    "a"
   ]
  },
  {
   "cell_type": "code",
   "execution_count": 6,
   "id": "9f4e54aa",
   "metadata": {},
   "outputs": [
    {
     "data": {
      "text/plain": [
       "{1: 'a', 2: 'b', 'c': 1}"
      ]
     },
     "execution_count": 6,
     "metadata": {},
     "output_type": "execute_result"
    }
   ],
   "source": [
    "a[\"c\"] = 1\n",
    "a"
   ]
  },
  {
   "cell_type": "code",
   "execution_count": 7,
   "id": "b185f800",
   "metadata": {},
   "outputs": [
    {
     "data": {
      "text/plain": [
       "{1: 'a', 2: 'b', 'c': 1, 3: [1, 2, 3]}"
      ]
     },
     "execution_count": 7,
     "metadata": {},
     "output_type": "execute_result"
    }
   ],
   "source": [
    "a[3] = [1, 2, 3]\n",
    "a"
   ]
  },
  {
   "cell_type": "markdown",
   "id": "b82a5df1",
   "metadata": {},
   "source": [
    "###### 딕셔너리 쌍 삭제하기"
   ]
  },
  {
   "cell_type": "code",
   "execution_count": 9,
   "id": "6f1f76c2",
   "metadata": {},
   "outputs": [
    {
     "data": {
      "text/plain": [
       "{1: 'a', 2: 'b', 'c': 1}"
      ]
     },
     "execution_count": 9,
     "metadata": {},
     "output_type": "execute_result"
    }
   ],
   "source": [
    "a = {1: 'a', 2: 'b', 'c': 1, 3: [1, 2, 3]}\n",
    "del a[3]\n",
    "a"
   ]
  },
  {
   "cell_type": "markdown",
   "id": "f687c4ca",
   "metadata": {},
   "source": [
    "###### 딕셔너리 사용하기"
   ]
  },
  {
   "cell_type": "code",
   "execution_count": 13,
   "id": "ce2b696d",
   "metadata": {},
   "outputs": [
    {
     "data": {
      "text/plain": [
       "'피겨스케이팅'"
      ]
     },
     "execution_count": 13,
     "metadata": {},
     "output_type": "execute_result"
    }
   ],
   "source": [
    "data_dic = {\"김연아\":\"피겨스케이팅\", \"류현진\":\"야구\", \"박지성\":\"축구\", \"귀도\":\"파이썬\"}\n",
    "data_dic[\"김연아\"]"
   ]
  },
  {
   "cell_type": "markdown",
   "id": "2a8da25f",
   "metadata": {},
   "source": [
    "## 딕셔너리 관련 함수들"
   ]
  },
  {
   "cell_type": "markdown",
   "id": "046cd6a7",
   "metadata": {},
   "source": [
    "###### key 리스트 만들기(keys)"
   ]
  },
  {
   "cell_type": "code",
   "execution_count": 23,
   "id": "40a25415",
   "metadata": {},
   "outputs": [
    {
     "data": {
      "text/plain": [
       "['김연아', '류현진', '박지성', '귀도']"
      ]
     },
     "execution_count": 23,
     "metadata": {},
     "output_type": "execute_result"
    }
   ],
   "source": [
    "data_dic = {\"김연아\":\"피겨스케이팅\", \"류현진\":\"야구\", \"박지성\":\"축구\", \"귀도\":\"파이썬\"}\n",
    "data_dic.keys()\n",
    "list(data_dic.keys())"
   ]
  },
  {
   "cell_type": "code",
   "execution_count": 24,
   "id": "d570f4f6",
   "metadata": {},
   "outputs": [
    {
     "data": {
      "text/plain": [
       "'김연아'"
      ]
     },
     "execution_count": 24,
     "metadata": {},
     "output_type": "execute_result"
    }
   ],
   "source": [
    "data_dic = {\"김연아\":\"피겨스케이팅\", \"류현진\":\"야구\", \"박지성\":\"축구\", \"귀도\":\"파이썬\"}\n",
    "data_dic.keys()\n",
    "list(data_dic.keys())[0]"
   ]
  },
  {
   "cell_type": "markdown",
   "id": "0e8d5c88",
   "metadata": {},
   "source": [
    "###### Value 리스트 만들기(values)"
   ]
  },
  {
   "cell_type": "code",
   "execution_count": 25,
   "id": "e43152e1",
   "metadata": {},
   "outputs": [
    {
     "data": {
      "text/plain": [
       "dict_values(['피겨스케이팅', '야구', '축구', '파이썬'])"
      ]
     },
     "execution_count": 25,
     "metadata": {},
     "output_type": "execute_result"
    }
   ],
   "source": [
    "data_dic = {\"김연아\":\"피겨스케이팅\", \"류현진\":\"야구\", \"박지성\":\"축구\", \"귀도\":\"파이썬\"}\n",
    "data_dic.values()"
   ]
  },
  {
   "cell_type": "code",
   "execution_count": 26,
   "id": "e1402e23",
   "metadata": {},
   "outputs": [
    {
     "data": {
      "text/plain": [
       "['피겨스케이팅', '야구', '축구', '파이썬']"
      ]
     },
     "execution_count": 26,
     "metadata": {},
     "output_type": "execute_result"
    }
   ],
   "source": [
    "list(data_dic.values())"
   ]
  },
  {
   "cell_type": "markdown",
   "id": "9cc9daa3",
   "metadata": {},
   "source": [
    "###### Key, Value 쌍 얻기(items)"
   ]
  },
  {
   "cell_type": "code",
   "execution_count": 27,
   "id": "daf1b363",
   "metadata": {},
   "outputs": [
    {
     "data": {
      "text/plain": [
       "dict_items([('김연아', '피겨스케이팅'), ('류현진', '야구'), ('박지성', '축구'), ('귀도', '파이썬')])"
      ]
     },
     "execution_count": 27,
     "metadata": {},
     "output_type": "execute_result"
    }
   ],
   "source": [
    "data_dic = {\"김연아\":\"피겨스케이팅\", \"류현진\":\"야구\", \"박지성\":\"축구\", \"귀도\":\"파이썬\"}\n",
    "data_dic.items()"
   ]
  },
  {
   "cell_type": "code",
   "execution_count": 28,
   "id": "0a9a6902",
   "metadata": {},
   "outputs": [
    {
     "data": {
      "text/plain": [
       "[('김연아', '피겨스케이팅'), ('류현진', '야구'), ('박지성', '축구'), ('귀도', '파이썬')]"
      ]
     },
     "execution_count": 28,
     "metadata": {},
     "output_type": "execute_result"
    }
   ],
   "source": [
    "data_dic = {\"김연아\":\"피겨스케이팅\", \"류현진\":\"야구\", \"박지성\":\"축구\", \"귀도\":\"파이썬\"}\n",
    "a = data_dic.items()\n",
    "list(a)"
   ]
  },
  {
   "cell_type": "code",
   "execution_count": 29,
   "id": "72aace3f",
   "metadata": {},
   "outputs": [
    {
     "data": {
      "text/plain": [
       "('김연아', '피겨스케이팅')"
      ]
     },
     "execution_count": 29,
     "metadata": {},
     "output_type": "execute_result"
    }
   ],
   "source": [
    "list_data = list(data_dic.items())\n",
    "list_data[0]"
   ]
  },
  {
   "cell_type": "code",
   "execution_count": 31,
   "id": "479d2d5d",
   "metadata": {},
   "outputs": [
    {
     "data": {
      "text/plain": [
       "tuple"
      ]
     },
     "execution_count": 31,
     "metadata": {},
     "output_type": "execute_result"
    }
   ],
   "source": [
    "type(list_data[0])"
   ]
  },
  {
   "cell_type": "code",
   "execution_count": 32,
   "id": "d4c35af2",
   "metadata": {},
   "outputs": [
    {
     "data": {
      "text/plain": [
       "{'김연아': '피겨스케이팅', '류현진': '야구', '박지성': '축구', '귀도': '파이썬'}"
      ]
     },
     "execution_count": 32,
     "metadata": {},
     "output_type": "execute_result"
    }
   ],
   "source": [
    "dict([('김연아', '피겨스케이팅'), ('류현진', '야구'), ('박지성', '축구'), ('귀도', '파이썬')])"
   ]
  },
  {
   "cell_type": "markdown",
   "id": "20aeab1a",
   "metadata": {},
   "source": [
    "###### Key: Value 쌍 모두 지우기(clear)"
   ]
  },
  {
   "cell_type": "code",
   "execution_count": 38,
   "id": "c01465c8",
   "metadata": {},
   "outputs": [
    {
     "data": {
      "text/plain": [
       "{}"
      ]
     },
     "execution_count": 38,
     "metadata": {},
     "output_type": "execute_result"
    }
   ],
   "source": [
    "data_dic = {\"김연아\":\"피겨스케이팅\", \"류현진\":\"야구\", \"박지성\":\"축구\", \"귀도\":\"파이썬\"}\n",
    "data_dic.clear()\n",
    "data_dic"
   ]
  },
  {
   "cell_type": "markdown",
   "id": "e7d6b27d",
   "metadata": {},
   "source": [
    "###### Key로 Value 얻기(get)"
   ]
  },
  {
   "cell_type": "code",
   "execution_count": 40,
   "id": "53d4f2e4",
   "metadata": {},
   "outputs": [
    {
     "data": {
      "text/plain": [
       "'피겨스케이팅'"
      ]
     },
     "execution_count": 40,
     "metadata": {},
     "output_type": "execute_result"
    }
   ],
   "source": [
    "data_dic = {\"김연아\":\"피겨스케이팅\", \"류현진\":\"야구\", \"박지성\":\"축구\", \"귀도\":\"파이썬\"}\n",
    "data_dic.get(\"김연아\")"
   ]
  },
  {
   "cell_type": "code",
   "execution_count": 41,
   "id": "915bb8a2",
   "metadata": {},
   "outputs": [
    {
     "name": "stdout",
     "output_type": "stream",
     "text": [
      "None\n"
     ]
    }
   ],
   "source": [
    "d = data_dic.get(\"손흥민\")\n",
    "print(d)"
   ]
  },
  {
   "cell_type": "code",
   "execution_count": 46,
   "id": "e03aa7f4",
   "metadata": {},
   "outputs": [
    {
     "data": {
      "text/plain": [
       "{'김연아': '피겨스케이팅', '류현진': '야구', '박지성': '축구', '귀도': '파이썬', '손흥민': '게임왕'}"
      ]
     },
     "execution_count": 46,
     "metadata": {},
     "output_type": "execute_result"
    }
   ],
   "source": [
    "data_dic = {\"김연아\":\"피겨스케이팅\", \"류현진\":\"야구\", \"박지성\":\"축구\", \"귀도\":\"파이썬\"}\n",
    "Key_name = {\"김연아\", \"류현진\", \"박지성\", \"귀도\", \"손흥민\"}\n",
    "for name in Key_name:\n",
    "    values = data_dic.get(name)\n",
    "    if values == None:\n",
    "        data_dic[name] = \"게임왕\"\n",
    "data_dic"
   ]
  },
  {
   "cell_type": "markdown",
   "id": "382bcc59",
   "metadata": {},
   "source": [
    "###### 해당 Key가 딕셔너리 안에 있는지 조사하기(in)"
   ]
  },
  {
   "cell_type": "code",
   "execution_count": 51,
   "id": "945dde85",
   "metadata": {},
   "outputs": [
    {
     "data": {
      "text/plain": [
       "True"
      ]
     },
     "execution_count": 51,
     "metadata": {},
     "output_type": "execute_result"
    }
   ],
   "source": [
    "data_dic = {\"김연아\":\"피겨스케이팅\", \"류현진\":\"야구\", \"박지성\":\"축구\", \"귀도\":\"파이썬\"}\n",
    "\"류현진\" in data_dic"
   ]
  },
  {
   "cell_type": "code",
   "execution_count": 69,
   "id": "7b37d1ee",
   "metadata": {},
   "outputs": [
    {
     "ename": "TypeError",
     "evalue": "unhashable type: 'list'",
     "output_type": "error",
     "traceback": [
      "\u001b[1;31m---------------------------------------------------------------------------\u001b[0m",
      "\u001b[1;31mTypeError\u001b[0m                                 Traceback (most recent call last)",
      "\u001b[1;32m<ipython-input-69-216b29bf6d77>\u001b[0m in \u001b[0;36m<module>\u001b[1;34m\u001b[0m\n\u001b[0;32m      2\u001b[0m \u001b[0mKey_name\u001b[0m \u001b[1;33m=\u001b[0m \u001b[1;33m[\u001b[0m\u001b[1;34m\"김연아\"\u001b[0m\u001b[1;33m,\u001b[0m \u001b[1;34m\"류현진\"\u001b[0m\u001b[1;33m,\u001b[0m \u001b[1;34m\"박지성\"\u001b[0m\u001b[1;33m,\u001b[0m \u001b[1;34m\"귀도\"\u001b[0m\u001b[1;33m,\u001b[0m \u001b[1;34m\"손흥민\"\u001b[0m\u001b[1;33m]\u001b[0m\u001b[1;33m\u001b[0m\u001b[1;33m\u001b[0m\u001b[0m\n\u001b[0;32m      3\u001b[0m \u001b[1;32mif\u001b[0m \u001b[1;34m\"손흥민\"\u001b[0m \u001b[1;32mnot\u001b[0m \u001b[1;32min\u001b[0m \u001b[0mdata_dic\u001b[0m\u001b[1;33m:\u001b[0m\u001b[1;33m\u001b[0m\u001b[1;33m\u001b[0m\u001b[0m\n\u001b[1;32m----> 4\u001b[1;33m     \u001b[0mdata_dic\u001b[0m\u001b[1;33m[\u001b[0m\u001b[0mKey_name\u001b[0m\u001b[1;33m]\u001b[0m \u001b[1;33m=\u001b[0m \u001b[1;34m\"게임왕\"\u001b[0m\u001b[1;33m\u001b[0m\u001b[1;33m\u001b[0m\u001b[0m\n\u001b[0m\u001b[0;32m      5\u001b[0m \u001b[1;33m\u001b[0m\u001b[0m\n\u001b[0;32m      6\u001b[0m \u001b[0mdata_dic\u001b[0m\u001b[1;33m\u001b[0m\u001b[1;33m\u001b[0m\u001b[0m\n",
      "\u001b[1;31mTypeError\u001b[0m: unhashable type: 'list'"
     ]
    }
   ],
   "source": [
    "data_dic = {\"김연아\":\"피겨스케이팅\", \"류현진\":\"야구\", \"손흥민\":\"축구\", \"귀도\":\"파이썬\"}\n",
    "Key_name = [\"김연아\", \"류현진\", \"박지성\", \"귀도\", \"손흥민\"]\n",
    "if \"손흥민\" not in data_dic:\n",
    "    data_dic[Key_name] = \"게임왕\"\n",
    "    \n",
    "data_dic"
   ]
  },
  {
   "cell_type": "code",
   "execution_count": 68,
   "id": "98661dba",
   "metadata": {},
   "outputs": [
    {
     "data": {
      "text/plain": [
       "['김', '태', '경']"
      ]
     },
     "execution_count": 68,
     "metadata": {},
     "output_type": "execute_result"
    }
   ],
   "source": [
    "a = \"김,태,경\".split(\",\")\n",
    "a"
   ]
  },
  {
   "cell_type": "code",
   "execution_count": null,
   "id": "37dc0db1",
   "metadata": {},
   "outputs": [],
   "source": []
  }
 ],
 "metadata": {
  "kernelspec": {
   "display_name": "Python 3",
   "language": "python",
   "name": "python3"
  },
  "language_info": {
   "codemirror_mode": {
    "name": "ipython",
    "version": 3
   },
   "file_extension": ".py",
   "mimetype": "text/x-python",
   "name": "python",
   "nbconvert_exporter": "python",
   "pygments_lexer": "ipython3",
   "version": "3.8.9"
  }
 },
 "nbformat": 4,
 "nbformat_minor": 5
}
