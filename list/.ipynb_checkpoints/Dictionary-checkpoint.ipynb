{
 "cells": [
  {
   "cell_type": "markdown",
   "id": "135d14fa",
   "metadata": {},
   "source": [
    "## 딕셔너리"
   ]
  },
  {
   "cell_type": "markdown",
   "id": "8f92728e",
   "metadata": {},
   "source": [
    "###### {Key1:Value1, Ke2:value2, Key3:Value3, ...}"
   ]
  },
  {
   "cell_type": "code",
   "execution_count": 1,
   "id": "750a763e",
   "metadata": {},
   "outputs": [
    {
     "data": {
      "text/plain": [
       "dict"
      ]
     },
     "execution_count": 1,
     "metadata": {},
     "output_type": "execute_result"
    }
   ],
   "source": [
    "dic = dict()\n",
    "type(dic)"
   ]
  },
  {
   "cell_type": "code",
   "execution_count": 2,
   "id": "45b80bd7",
   "metadata": {},
   "outputs": [
    {
     "data": {
      "text/plain": [
       "2"
      ]
     },
     "execution_count": 2,
     "metadata": {},
     "output_type": "execute_result"
    }
   ],
   "source": [
    "dic = {\"a\":\"b\", \"c\":\"d\"}\n",
    "len(dic)"
   ]
  },
  {
   "cell_type": "code",
   "execution_count": 4,
   "id": "22371ba4",
   "metadata": {},
   "outputs": [
    {
     "data": {
      "text/plain": [
       "3"
      ]
     },
     "execution_count": 4,
     "metadata": {},
     "output_type": "execute_result"
    }
   ],
   "source": [
    "dic = {'name':'pey', 'phone':'0119993323', 'birth': '1118'}\n",
    "len(dic)"
   ]
  },
  {
   "cell_type": "markdown",
   "id": "51732c52",
   "metadata": {},
   "source": [
    "###### 딕셔너리 쌍 추가하기"
   ]
  },
  {
   "cell_type": "code",
   "execution_count": 5,
   "id": "76fb9c88",
   "metadata": {},
   "outputs": [
    {
     "data": {
      "text/plain": [
       "{1: 'a', 2: 'b'}"
      ]
     },
     "execution_count": 5,
     "metadata": {},
     "output_type": "execute_result"
    }
   ],
   "source": [
    "a = {1 : 'a'}\n",
    "a[2] = 'b'\n",
    "a"
   ]
  },
  {
   "cell_type": "code",
   "execution_count": 6,
   "id": "83de0792",
   "metadata": {},
   "outputs": [
    {
     "data": {
      "text/plain": [
       "{1: 'a', 2: 'b', 'c': 1}"
      ]
     },
     "execution_count": 6,
     "metadata": {},
     "output_type": "execute_result"
    }
   ],
   "source": [
    "a[\"c\"] = 1\n",
    "a"
   ]
  },
  {
   "cell_type": "code",
   "execution_count": 7,
   "id": "a540e1f9",
   "metadata": {},
   "outputs": [
    {
     "data": {
      "text/plain": [
       "{1: 'a', 2: 'b', 'c': 1, 3: [1, 2, 3]}"
      ]
     },
     "execution_count": 7,
     "metadata": {},
     "output_type": "execute_result"
    }
   ],
   "source": [
    "a[3] = [1, 2, 3]\n",
    "a"
   ]
  },
  {
   "cell_type": "markdown",
   "id": "987b7518",
   "metadata": {},
   "source": [
    "###### 딕셔너리 쌍 삭제하기"
   ]
  },
  {
   "cell_type": "code",
   "execution_count": 9,
   "id": "8b851a46",
   "metadata": {},
   "outputs": [
    {
     "data": {
      "text/plain": [
       "{1: 'a', 2: 'b', 'c': 1}"
      ]
     },
     "execution_count": 9,
     "metadata": {},
     "output_type": "execute_result"
    }
   ],
   "source": [
    "a = {1: 'a', 2: 'b', 'c': 1, 3: [1, 2, 3]}\n",
    "del a[3]\n",
    "a"
   ]
  },
  {
   "cell_type": "markdown",
   "id": "6304bef6",
   "metadata": {},
   "source": [
    "###### 딕셔너리 사용하기"
   ]
  },
  {
   "cell_type": "code",
   "execution_count": 13,
   "id": "b8cedc90",
   "metadata": {},
   "outputs": [
    {
     "data": {
      "text/plain": [
       "'피겨스케이팅'"
      ]
     },
     "execution_count": 13,
     "metadata": {},
     "output_type": "execute_result"
    }
   ],
   "source": [
    "data_dic = {\"김연아\":\"피겨스케이팅\", \"류현진\":\"야구\", \"박지성\":\"축구\", \"귀도\":\"파이썬\"}\n",
    "data_dic[\"김연아\"]"
   ]
  },
  {
   "cell_type": "markdown",
   "id": "142d47a1",
   "metadata": {},
   "source": [
    "## 딕셔너리 관련 함수들"
   ]
  },
  {
   "cell_type": "markdown",
   "id": "18cbe8d8",
   "metadata": {},
   "source": [
    "###### key 리스트 만들기(keys)"
   ]
  },
  {
   "cell_type": "code",
   "execution_count": 23,
   "id": "b1814e39",
   "metadata": {},
   "outputs": [
    {
     "data": {
      "text/plain": [
       "['김연아', '류현진', '박지성', '귀도']"
      ]
     },
     "execution_count": 23,
     "metadata": {},
     "output_type": "execute_result"
    }
   ],
   "source": [
    "data_dic = {\"김연아\":\"피겨스케이팅\", \"류현진\":\"야구\", \"박지성\":\"축구\", \"귀도\":\"파이썬\"}\n",
    "data_dic.keys()\n",
    "list(data_dic.keys())"
   ]
  },
  {
   "cell_type": "code",
   "execution_count": 24,
   "id": "8c7430e6",
   "metadata": {},
   "outputs": [
    {
     "data": {
      "text/plain": [
       "'김연아'"
      ]
     },
     "execution_count": 24,
     "metadata": {},
     "output_type": "execute_result"
    }
   ],
   "source": [
    "data_dic = {\"김연아\":\"피겨스케이팅\", \"류현진\":\"야구\", \"박지성\":\"축구\", \"귀도\":\"파이썬\"}\n",
    "data_dic.keys()\n",
    "list(data_dic.keys())[0]"
   ]
  },
  {
   "cell_type": "markdown",
   "id": "73754357",
   "metadata": {},
   "source": [
    "###### Value 리스트 만들기(values)"
   ]
  },
  {
   "cell_type": "code",
   "execution_count": 25,
   "id": "d0c633e9",
   "metadata": {},
   "outputs": [
    {
     "data": {
      "text/plain": [
       "dict_values(['피겨스케이팅', '야구', '축구', '파이썬'])"
      ]
     },
     "execution_count": 25,
     "metadata": {},
     "output_type": "execute_result"
    }
   ],
   "source": [
    "data_dic = {\"김연아\":\"피겨스케이팅\", \"류현진\":\"야구\", \"박지성\":\"축구\", \"귀도\":\"파이썬\"}\n",
    "data_dic.values()"
   ]
  },
  {
   "cell_type": "code",
   "execution_count": 26,
   "id": "8bee4c65",
   "metadata": {},
   "outputs": [
    {
     "data": {
      "text/plain": [
       "['피겨스케이팅', '야구', '축구', '파이썬']"
      ]
     },
     "execution_count": 26,
     "metadata": {},
     "output_type": "execute_result"
    }
   ],
   "source": [
    "list(data_dic.values())"
   ]
  },
  {
   "cell_type": "markdown",
   "id": "ba0ca3b6",
   "metadata": {},
   "source": [
    "###### Key, Value 쌍 얻기(items)"
   ]
  },
  {
   "cell_type": "code",
   "execution_count": 27,
   "id": "9f9d70d2",
   "metadata": {},
   "outputs": [
    {
     "data": {
      "text/plain": [
       "dict_items([('김연아', '피겨스케이팅'), ('류현진', '야구'), ('박지성', '축구'), ('귀도', '파이썬')])"
      ]
     },
     "execution_count": 27,
     "metadata": {},
     "output_type": "execute_result"
    }
   ],
   "source": [
    "data_dic = {\"김연아\":\"피겨스케이팅\", \"류현진\":\"야구\", \"박지성\":\"축구\", \"귀도\":\"파이썬\"}\n",
    "data_dic.items()"
   ]
  },
  {
   "cell_type": "code",
   "execution_count": 28,
   "id": "3279810e",
   "metadata": {},
   "outputs": [
    {
     "data": {
      "text/plain": [
       "[('김연아', '피겨스케이팅'), ('류현진', '야구'), ('박지성', '축구'), ('귀도', '파이썬')]"
      ]
     },
     "execution_count": 28,
     "metadata": {},
     "output_type": "execute_result"
    }
   ],
   "source": [
    "data_dic = {\"김연아\":\"피겨스케이팅\", \"류현진\":\"야구\", \"박지성\":\"축구\", \"귀도\":\"파이썬\"}\n",
    "a = data_dic.items()\n",
    "list(a)"
   ]
  },
  {
   "cell_type": "code",
   "execution_count": 29,
   "id": "243506d2",
   "metadata": {},
   "outputs": [
    {
     "data": {
      "text/plain": [
       "('김연아', '피겨스케이팅')"
      ]
     },
     "execution_count": 29,
     "metadata": {},
     "output_type": "execute_result"
    }
   ],
   "source": [
    "list_data = list(data_dic.items())\n",
    "list_data[0]"
   ]
  },
  {
   "cell_type": "code",
   "execution_count": 31,
   "id": "09e87172",
   "metadata": {},
   "outputs": [
    {
     "data": {
      "text/plain": [
       "tuple"
      ]
     },
     "execution_count": 31,
     "metadata": {},
     "output_type": "execute_result"
    }
   ],
   "source": [
    "type(list_data[0])"
   ]
  },
  {
   "cell_type": "code",
   "execution_count": 32,
   "id": "06c1d262",
   "metadata": {},
   "outputs": [
    {
     "data": {
      "text/plain": [
       "{'김연아': '피겨스케이팅', '류현진': '야구', '박지성': '축구', '귀도': '파이썬'}"
      ]
     },
     "execution_count": 32,
     "metadata": {},
     "output_type": "execute_result"
    }
   ],
   "source": [
    "dict([('김연아', '피겨스케이팅'), ('류현진', '야구'), ('박지성', '축구'), ('귀도', '파이썬')])"
   ]
  },
  {
   "cell_type": "markdown",
   "id": "a7f7b8f2",
   "metadata": {},
   "source": [
    "###### Key: Value 쌍 모두 지우기(clear)"
   ]
  },
  {
   "cell_type": "code",
   "execution_count": 38,
   "id": "a2762176",
   "metadata": {},
   "outputs": [
    {
     "data": {
      "text/plain": [
       "{}"
      ]
     },
     "execution_count": 38,
     "metadata": {},
     "output_type": "execute_result"
    }
   ],
   "source": [
    "data_dic = {\"김연아\":\"피겨스케이팅\", \"류현진\":\"야구\", \"박지성\":\"축구\", \"귀도\":\"파이썬\"}\n",
    "data_dic.clear()\n",
    "data_dic"
   ]
  },
  {
   "cell_type": "markdown",
   "id": "cb305ba6",
   "metadata": {},
   "source": [
    "###### Key로 Value 얻기(get)"
   ]
  },
  {
   "cell_type": "code",
   "execution_count": 40,
   "id": "d72d3eb8",
   "metadata": {},
   "outputs": [
    {
     "data": {
      "text/plain": [
       "'피겨스케이팅'"
      ]
     },
     "execution_count": 40,
     "metadata": {},
     "output_type": "execute_result"
    }
   ],
   "source": [
    "data_dic = {\"김연아\":\"피겨스케이팅\", \"류현진\":\"야구\", \"박지성\":\"축구\", \"귀도\":\"파이썬\"}\n",
    "data_dic.get(\"김연아\")"
   ]
  },
  {
   "cell_type": "code",
   "execution_count": 41,
   "id": "afcc2da1",
   "metadata": {},
   "outputs": [
    {
     "name": "stdout",
     "output_type": "stream",
     "text": [
      "None\n"
     ]
    }
   ],
   "source": [
    "d = data_dic.get(\"손흥민\")\n",
    "print(d)"
   ]
  },
  {
   "cell_type": "code",
   "execution_count": 46,
   "id": "78ce1fd1",
   "metadata": {},
   "outputs": [
    {
     "data": {
      "text/plain": [
       "{'김연아': '피겨스케이팅', '류현진': '야구', '박지성': '축구', '귀도': '파이썬', '손흥민': '게임왕'}"
      ]
     },
     "execution_count": 46,
     "metadata": {},
     "output_type": "execute_result"
    }
   ],
   "source": [
    "data_dic = {\"김연아\":\"피겨스케이팅\", \"류현진\":\"야구\", \"박지성\":\"축구\", \"귀도\":\"파이썬\"}\n",
    "Key_name = {\"김연아\", \"류현진\", \"박지성\", \"귀도\", \"손흥민\"}\n",
    "for name in Key_name:\n",
    "    values = data_dic.get(name)\n",
    "    if values == None:\n",
    "        data_dic[name] = \"게임왕\"\n",
    "data_dic"
   ]
  },
  {
   "cell_type": "markdown",
   "id": "02835e12",
   "metadata": {},
   "source": [
    "###### 해당 Key가 딕셔너리 안에 있는지 조사하기(in)"
   ]
  },
  {
   "cell_type": "code",
   "execution_count": 51,
   "id": "f35f370d",
   "metadata": {},
   "outputs": [
    {
     "data": {
      "text/plain": [
       "True"
      ]
     },
     "execution_count": 51,
     "metadata": {},
     "output_type": "execute_result"
    }
   ],
   "source": [
    "data_dic = {\"김연아\":\"피겨스케이팅\", \"류현진\":\"야구\", \"박지성\":\"축구\", \"귀도\":\"파이썬\"}\n",
    "\"류현진\" in data_dic"
   ]
  },
  {
   "cell_type": "code",
   "execution_count": 79,
   "id": "4ff59a2c",
   "metadata": {},
   "outputs": [
    {
     "data": {
      "text/plain": [
       "{'김연아': '게임왕', '류현진': '야구', '박지성': '축구', '귀도': '파이썬'}"
      ]
     },
     "execution_count": 79,
     "metadata": {},
     "output_type": "execute_result"
    }
   ],
   "source": [
    "data_dic = {\"김연아\":\"피겨스케이팅\", \"류현진\":\"야구\", \"박지성\":\"축구\", \"귀도\":\"파이썬\"}\n",
    "Key_name = {\"김연아\", \"류현진\", \"박지성\", \"귀도\", \"손흥민\"}\n",
    "if \"손흥민\"  not in data_dic:\n",
    "    data_dic[name] = \"게임왕\"\n",
    "    \n",
    "data_dic"
   ]
  },
  {
   "cell_type": "code",
   "execution_count": 68,
   "id": "a61f026a",
   "metadata": {},
   "outputs": [
    {
     "data": {
      "text/plain": [
       "['김', '태', '경']"
      ]
     },
     "execution_count": 68,
     "metadata": {},
     "output_type": "execute_result"
    }
   ],
   "source": [
    "a = \"김,태,경\".split(\",\")\n",
    "a"
   ]
  },
  {
   "cell_type": "code",
   "execution_count": 77,
   "id": "daafb90d",
   "metadata": {},
   "outputs": [
    {
     "data": {
      "text/plain": [
       "list"
      ]
     },
     "execution_count": 77,
     "metadata": {},
     "output_type": "execute_result"
    }
   ],
   "source": [
    "type([1,2,3])"
   ]
  },
  {
   "cell_type": "code",
   "execution_count": 78,
   "id": "3e3a3b7d",
   "metadata": {},
   "outputs": [
    {
     "data": {
      "text/plain": [
       "[]"
      ]
     },
     "execution_count": 78,
     "metadata": {},
     "output_type": "execute_result"
    }
   ],
   "source": [
    "a= list()\n",
    "a"
   ]
  },
  {
   "cell_type": "code",
   "execution_count": null,
   "id": "127d5a6b",
   "metadata": {},
   "outputs": [],
   "source": []
  }
 ],
 "metadata": {
  "kernelspec": {
   "display_name": "Python 3",
   "language": "python",
   "name": "python3"
  },
  "language_info": {
   "codemirror_mode": {
    "name": "ipython",
    "version": 3
   },
   "file_extension": ".py",
   "mimetype": "text/x-python",
   "name": "python",
   "nbconvert_exporter": "python",
   "pygments_lexer": "ipython3",
   "version": "3.8.9"
  }
 },
 "nbformat": 4,
 "nbformat_minor": 5
}
